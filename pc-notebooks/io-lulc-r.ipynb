{
 "cells": [
  {
   "cell_type": "code",
   "execution_count": null,
   "id": "17819876-5d91-4c92-b917-7436fe83d0e9",
   "metadata": {
    "tags": []
   },
   "outputs": [],
   "source": [
    "library(\"gdalcubes\")\n",
    "library(\"rstac\")\n",
    "library(\"tibble\")\n",
    "library(\"sf\")\n",
    "library(\"geojsonsf\")"
   ]
  },
  {
   "cell_type": "code",
   "execution_count": null,
   "id": "d03b1f85-78ed-442b-bbb3-c622756d2cdf",
   "metadata": {
    "tags": []
   },
   "outputs": [],
   "source": [
    "s = stac(\"https://planetarycomputer.microsoft.com/api/stac/v1/\")"
   ]
  },
  {
   "cell_type": "code",
   "execution_count": null,
   "id": "47c88753-12a7-4c55-8356-66c64481802f",
   "metadata": {
    "tags": []
   },
   "outputs": [],
   "source": [
    "b <- c(-2009488, -715776, 1401061, 2597757)\n",
    "bounds <- matrix(c(b[1],b[2],\n",
    "                   b[1],b[4],\n",
    "                   b[3],b[4],\n",
    "                   b[3],b[2],\n",
    "                   b[1],b[2]\n",
    "                ),ncol=2, byrow=TRUE)\n",
    "\n",
    "resolution <- 1000\n",
    "epsg <- 32198\n",
    "tt<-st_sfc(st_polygon(list(bounds)))\n",
    "st_crs(tt) = epsg\n",
    "bounds_ll <- tt |>\n",
    "  st_transform(crs = 4326) |>\n",
    "  sfc_geojson() |>\n",
    "  jsonlite::fromJSON()\n",
    "bounds_ll"
   ]
  },
  {
   "cell_type": "code",
   "execution_count": null,
   "id": "9788fc43-0377-4d1e-a452-eb07c640d306",
   "metadata": {
    "tags": []
   },
   "outputs": [],
   "source": [
    "it_obj <- s |>\n",
    "    stac_search(intersects=bounds_ll, collections=c('io-lulc'),limit=5000) |> post_request()\n",
    "it_obj <- it_obj |> items_sign(sign_fn = sign_planetary_computer())\n",
    "st<-stac_image_collection(it_obj$features,asset_names=c(\"data\"))\n",
    "st\n",
    "#"
   ]
  },
  {
   "cell_type": "raw",
   "id": "a0fefb0b-b71a-40b7-bb05-fd2090ff42ac",
   "metadata": {
    "tags": []
   },
   "source": [
    "#mamba install -c conda-forge r-magick\n",
    "library(magick)\n",
    "href=items_sign(it_obj,sign_fn = sign_planetary_computer())\n",
    "pic <- image_read(href)\n",
    "pic"
   ]
  },
  {
   "cell_type": "code",
   "execution_count": null,
   "id": "287e87a1-097f-4fd8-b5a9-54d3148b6784",
   "metadata": {
    "tags": []
   },
   "outputs": [],
   "source": [
    "v = cube_view(srs = paste0(\"EPSG:\",epsg),  extent = list(t0 = \"2020-06-01\", t1 = \"2020-06-01\",\n",
    "              left = b[1], right = b[3],  top = b[4], bottom = b[2]),\n",
    "              dx = resolution, dy = resolution, dt = \"P1Y\",aggregation = \"first\", resampling = \"mode\")\n",
    "\n",
    "gdalcubes_options(threads = 4)\n",
    "mosaic = raster_cube(st, v, chunking = c(1, 5000, 5000)) |>\n",
    "    select_bands(c(\"data\"))\n",
    "    #reduce_time(c(\"max(data)\"))\n",
    "\n"
   ]
  },
  {
   "cell_type": "code",
   "execution_count": null,
   "id": "7c48b895-e25b-4209-99ac-2668c5a8b605",
   "metadata": {},
   "outputs": [],
   "source": [
    "mosaic |> \n",
    "    write_tif(\n",
    "        dir = \"/home/jovyan/\",\n",
    "        prefix = \"io-lulc\",\n",
    "        COG = TRUE\n",
    "    )\n"
   ]
  }
 ],
 "metadata": {
  "kernelspec": {
   "display_name": "Python 3 (ipykernel)",
   "language": "python",
   "name": "python3"
  },
  "language_info": {
   "codemirror_mode": {
    "name": "ipython",
    "version": 3
   },
   "file_extension": ".py",
   "mimetype": "text/x-python",
   "name": "python",
   "nbconvert_exporter": "python",
   "pygments_lexer": "ipython3",
   "version": "3.8.12"
  }
 },
 "nbformat": 4,
 "nbformat_minor": 5
}
