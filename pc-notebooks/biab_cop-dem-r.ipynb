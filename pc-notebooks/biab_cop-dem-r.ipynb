{
 "cells": [
  {
   "cell_type": "code",
   "execution_count": 21,
   "id": "839cff20-0a7d-4214-97e0-7bd488072fc7",
   "metadata": {
    "tags": []
   },
   "outputs": [],
   "source": [
    "library(\"gdalcubes\")\n",
    "library(\"rstac\")\n",
    "library(\"tibble\")\n",
    "library(\"sf\")\n",
    "library(\"geojsonsf\")\n",
    "library(\"stringr\")"
   ]
  },
  {
   "cell_type": "code",
   "execution_count": 22,
   "id": "71f7968d-62dd-4f98-9373-92ac1ab0b9f2",
   "metadata": {
    "tags": []
   },
   "outputs": [],
   "source": [
    "s = stac(\"https://planetarycomputer.microsoft.com/api/stac/v1/\")"
   ]
  },
  {
   "cell_type": "code",
   "execution_count": 23,
   "id": "9c84eb90-0a22-48d3-a3d6-eabacbb5cc62",
   "metadata": {},
   "outputs": [
    {
     "data": {
      "text/html": [
       "<dl>\n",
       "\t<dt>$type</dt>\n",
       "\t\t<dd>'Polygon'</dd>\n",
       "\t<dt>$coordinates</dt>\n",
       "\t\t<dd><style>\n",
       ".list-inline {list-style: none; margin:0; padding: 0}\n",
       ".list-inline>li {display: inline-block}\n",
       ".list-inline>li:not(:last-child)::after {content: \"\\00b7\"; padding: 0 .5ex}\n",
       "</style>\n",
       "<ol class=list-inline><li>-90.0126353762995</li><li>-108.947549808344</li><li>-38.7051502465977</li><li>-53.2664601602692</li><li>-90.0126353762995</li><li>34.9904689028062</li><li>62.1590586934843</li><li>64.7125153680319</li><li>36.3366564652397</li><li>34.9904689028062</li></ol>\n",
       "</dd>\n",
       "</dl>\n"
      ],
      "text/latex": [
       "\\begin{description}\n",
       "\\item[\\$type] 'Polygon'\n",
       "\\item[\\$coordinates] \\begin{enumerate*}\n",
       "\\item -90.0126353762995\n",
       "\\item -108.947549808344\n",
       "\\item -38.7051502465977\n",
       "\\item -53.2664601602692\n",
       "\\item -90.0126353762995\n",
       "\\item 34.9904689028062\n",
       "\\item 62.1590586934843\n",
       "\\item 64.7125153680319\n",
       "\\item 36.3366564652397\n",
       "\\item 34.9904689028062\n",
       "\\end{enumerate*}\n",
       "\n",
       "\\end{description}\n"
      ],
      "text/markdown": [
       "$type\n",
       ":   'Polygon'\n",
       "$coordinates\n",
       ":   1. -90.0126353762995\n",
       "2. -108.947549808344\n",
       "3. -38.7051502465977\n",
       "4. -53.2664601602692\n",
       "5. -90.0126353762995\n",
       "6. 34.9904689028062\n",
       "7. 62.1590586934843\n",
       "8. 64.7125153680319\n",
       "9. 36.3366564652397\n",
       "10. 34.9904689028062\n",
       "\n",
       "\n",
       "\n",
       "\n",
       "\n"
      ],
      "text/plain": [
       "$type\n",
       "[1] \"Polygon\"\n",
       "\n",
       "$coordinates\n",
       ", , 1\n",
       "\n",
       "          [,1]      [,2]      [,3]      [,4]      [,5]\n",
       "[1,] -90.01264 -108.9475 -38.70515 -53.26646 -90.01264\n",
       "\n",
       ", , 2\n",
       "\n",
       "         [,1]     [,2]     [,3]     [,4]     [,5]\n",
       "[1,] 34.99047 62.15906 64.71252 36.33666 34.99047\n",
       "\n"
      ]
     },
     "metadata": {},
     "output_type": "display_data"
    }
   ],
   "source": [
    "b <- c(-2009488, -715776, 1401061, 2597757)\n",
    "bounds <- matrix(c(b[1],b[2],\n",
    "                   b[1],b[4],\n",
    "                   b[3],b[4],\n",
    "                   b[3],b[2],\n",
    "                   b[1],b[2]\n",
    "                ),ncol=2, byrow=TRUE)\n",
    "\n",
    "resolution <- 1000\n",
    "epsg <- 32198\n",
    "tt<-st_sfc(st_polygon(list(bounds)))\n",
    "st_crs(tt) = epsg\n",
    "bounds_ll <- tt |>\n",
    "  st_transform(crs = 4326) |>\n",
    "  sfc_geojson() |>\n",
    "  jsonlite::fromJSON()\n",
    "bounds_ll"
   ]
  },
  {
   "cell_type": "code",
   "execution_count": 25,
   "id": "b67c4673-eb50-4185-b67a-3b97a3813e4a",
   "metadata": {
    "tags": []
   },
   "outputs": [
    {
     "name": "stderr",
     "output_type": "stream",
     "text": [
      "Warning message in stac_image_collection(it_obj$features, asset_names = c(\"data\")):\n",
      "“STAC asset with name 'data' does not include eo:bands metadata and will be considered as a single band source”\n"
     ]
    },
    {
     "data": {
      "text/plain": [
       "Image collection object, referencing 1077 images with 1  bands\n",
       "Images:\n",
       "                                      name      left      top   bottom\n",
       "1 Copernicus_DSM_COG_30_N64_00_W054_00_DEM -54.00083 65.00042 64.00042\n",
       "2 Copernicus_DSM_COG_30_N64_00_W053_00_DEM -53.00083 65.00042 64.00042\n",
       "3 Copernicus_DSM_COG_30_N64_00_W052_00_DEM -52.00083 65.00042 64.00042\n",
       "4 Copernicus_DSM_COG_30_N64_00_W051_00_DEM -51.00083 65.00042 64.00042\n",
       "5 Copernicus_DSM_COG_30_N64_00_W050_00_DEM -50.00083 65.00042 64.00042\n",
       "6 Copernicus_DSM_COG_30_N64_00_W049_00_DEM -49.00083 65.00042 64.00042\n",
       "      right            datetime       srs\n",
       "1 -53.00083 2021-04-22T00:00:00 EPSG:4326\n",
       "2 -52.00083 2021-04-22T00:00:00 EPSG:4326\n",
       "3 -51.00083 2021-04-22T00:00:00 EPSG:4326\n",
       "4 -50.00083 2021-04-22T00:00:00 EPSG:4326\n",
       "5 -49.00083 2021-04-22T00:00:00 EPSG:4326\n",
       "6 -48.00083 2021-04-22T00:00:00 EPSG:4326\n",
       "[ omitted 1071 images ] \n",
       "\n",
       "Bands:\n",
       "  name offset scale unit nodata image_count\n",
       "1 data      0     1                    1077\n"
      ]
     },
     "metadata": {},
     "output_type": "display_data"
    }
   ],
   "source": [
    "it_obj <- s |>\n",
    "    stac_search(intersects=bounds_ll, collections=c('cop-dem-glo-90'),limit=5000) |> post_request()\n",
    "#it_obj |> items_sign(sign_fn = sign_planetary_computer())\n",
    "st<-stac_image_collection(it_obj$features,asset_names=c(\"data\"))\n",
    "st\n",
    "#\n",
    "#"
   ]
  },
  {
   "cell_type": "code",
   "execution_count": 26,
   "id": "7018be16-6117-434e-92b6-a9a6af9b322e",
   "metadata": {
    "tags": []
   },
   "outputs": [],
   "source": [
    "v = cube_view(srs = paste0(\"EPSG:\",epsg),  extent = list(t0 = \"2021-01-01\", t1 = \"2021-12-31\",\n",
    "              left = b[1], right = b[3],  top = b[4], bottom = b[2]),\n",
    "              dx = resolution, dy = resolution, dt = \"P1Y\",aggregation = \"max\", resampling = \"near\")\n",
    "\n",
    "gdalcubes_options(threads = 8)\n",
    "mosaic = raster_cube(st, v, chunking = c(1, 5000, 5000)) |>\n",
    "    select_bands(c(\"data\"))\n",
    "    #reduce_time(c(\"max(data)\"))\n"
   ]
  },
  {
   "cell_type": "code",
   "execution_count": 27,
   "id": "19c0acbd-6b8f-4423-88b3-5717534f4812",
   "metadata": {},
   "outputs": [],
   "source": [
    "mosaic |> \n",
    "    write_tif(\n",
    "        dir = \"/home/jovyan/\",\n",
    "        prefix = \"cop-dem-glo-1km\",\n",
    "        COG = TRUE,\n",
    "        creation_options = list('compress'='deflate')\n",
    "    )\n",
    "    #plot(zlim=c(-10,1000))"
   ]
  },
  {
   "cell_type": "code",
   "execution_count": null,
   "id": "da5f4f0d-c866-42e4-b393-1f744d81779d",
   "metadata": {},
   "outputs": [],
   "source": []
  }
 ],
 "metadata": {
  "kernelspec": {
   "display_name": "R",
   "language": "R",
   "name": "ir"
  },
  "language_info": {
   "codemirror_mode": "r",
   "file_extension": ".r",
   "mimetype": "text/x-r-source",
   "name": "R",
   "pygments_lexer": "r",
   "version": "4.1.1"
  }
 },
 "nbformat": 4,
 "nbformat_minor": 5
}
